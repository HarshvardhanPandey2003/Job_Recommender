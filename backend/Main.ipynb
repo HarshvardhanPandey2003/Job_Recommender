{
 "cells": [
  {
   "cell_type": "code",
   "execution_count": 30,
   "metadata": {},
   "outputs": [],
   "source": [
    "import pandas as pd \n",
    "import numpy as np \n"
   ]
  },
  {
   "cell_type": "code",
   "execution_count": 31,
   "metadata": {},
   "outputs": [],
   "source": [
    "df1=pd.read_csv('Combined_Jobs_Final.csv')\n"
   ]
  },
  {
   "cell_type": "code",
   "execution_count": 32,
   "metadata": {},
   "outputs": [],
   "source": [
    "df1['Title'] = df1['Title'] + ', City: ' + df1['City'] + ', State : ' +df1['State.Name'] "
   ]
  },
  {
   "cell_type": "code",
   "execution_count": 33,
   "metadata": {},
   "outputs": [],
   "source": [
    "df1 = df1.drop(['Created.At', 'Updated.At','Latitude', 'Longitude','Listing.Start','Listing.End','Employment.Type','Industry'], axis=1)\n"
   ]
  },
  {
   "cell_type": "code",
   "execution_count": 34,
   "metadata": {},
   "outputs": [],
   "source": [
    "df1 = df1.drop(['State.Code','Company','Slug','Job.ID', 'Provider','Slug','Requirements','Address','Education.Required','Requirements','Status','Salary'], axis=1)"
   ]
  },
  {
   "cell_type": "code",
   "execution_count": 35,
   "metadata": {},
   "outputs": [
    {
     "data": {
      "text/plain": [
       "Index(['Title', 'Position', 'City', 'State.Name', 'Job.Description'], dtype='object')"
      ]
     },
     "execution_count": 35,
     "metadata": {},
     "output_type": "execute_result"
    }
   ],
   "source": [
    "df1.columns"
   ]
  },
  {
   "cell_type": "code",
   "execution_count": 36,
   "metadata": {},
   "outputs": [],
   "source": [
    "df1.dropna(subset=['City'], inplace=True)"
   ]
  },
  {
   "cell_type": "code",
   "execution_count": 37,
   "metadata": {},
   "outputs": [],
   "source": [
    "df1.dropna(subset=['State.Name'], inplace=True)"
   ]
  },
  {
   "cell_type": "code",
   "execution_count": 38,
   "metadata": {},
   "outputs": [
    {
     "data": {
      "text/plain": [
       "(83916, 5)"
      ]
     },
     "execution_count": 38,
     "metadata": {},
     "output_type": "execute_result"
    }
   ],
   "source": [
    "df1.shape"
   ]
  },
  {
   "cell_type": "code",
   "execution_count": 39,
   "metadata": {},
   "outputs": [
    {
     "data": {
      "text/html": [
       "<div>\n",
       "<style scoped>\n",
       "    .dataframe tbody tr th:only-of-type {\n",
       "        vertical-align: middle;\n",
       "    }\n",
       "\n",
       "    .dataframe tbody tr th {\n",
       "        vertical-align: top;\n",
       "    }\n",
       "\n",
       "    .dataframe thead th {\n",
       "        text-align: right;\n",
       "    }\n",
       "</style>\n",
       "<table border=\"1\" class=\"dataframe\">\n",
       "  <thead>\n",
       "    <tr style=\"text-align: right;\">\n",
       "      <th></th>\n",
       "      <th>Title</th>\n",
       "      <th>Position</th>\n",
       "      <th>City</th>\n",
       "      <th>State.Name</th>\n",
       "      <th>Job.Description</th>\n",
       "    </tr>\n",
       "  </thead>\n",
       "  <tbody>\n",
       "    <tr>\n",
       "      <th>0</th>\n",
       "      <td>Server @ Tacolicious, City: Palo Alto, State :...</td>\n",
       "      <td>Server</td>\n",
       "      <td>Palo Alto</td>\n",
       "      <td>California</td>\n",
       "      <td>Tacolicious' first Palo Alto store just opened...</td>\n",
       "    </tr>\n",
       "    <tr>\n",
       "      <th>1</th>\n",
       "      <td>Kitchen Staff/Chef @ Claude Lane, City: San Fr...</td>\n",
       "      <td>Kitchen Staff/Chef</td>\n",
       "      <td>San Francisco</td>\n",
       "      <td>California</td>\n",
       "      <td>\\r\\n\\r\\nNew French Brasserie in S.F. Financia...</td>\n",
       "    </tr>\n",
       "    <tr>\n",
       "      <th>2</th>\n",
       "      <td>Bartender @ Machka Restaurants Corp., City: Sa...</td>\n",
       "      <td>Bartender</td>\n",
       "      <td>San Francisco</td>\n",
       "      <td>California</td>\n",
       "      <td>We are a popular Mediterranean wine bar and re...</td>\n",
       "    </tr>\n",
       "    <tr>\n",
       "      <th>3</th>\n",
       "      <td>Server @ Teriyaki House, City: Brisbane, State...</td>\n",
       "      <td>Server</td>\n",
       "      <td>Brisbane</td>\n",
       "      <td>California</td>\n",
       "      <td>● Serve food/drinks to customers in a profess...</td>\n",
       "    </tr>\n",
       "    <tr>\n",
       "      <th>4</th>\n",
       "      <td>Kitchen Staff/Chef @ Rosa Mexicano - Sunset, C...</td>\n",
       "      <td>Kitchen Staff/Chef</td>\n",
       "      <td>Los Angeles</td>\n",
       "      <td>California</td>\n",
       "      <td>Located at the heart of Hollywood, we are one ...</td>\n",
       "    </tr>\n",
       "  </tbody>\n",
       "</table>\n",
       "</div>"
      ],
      "text/plain": [
       "                                               Title            Position   \n",
       "0  Server @ Tacolicious, City: Palo Alto, State :...              Server  \\\n",
       "1  Kitchen Staff/Chef @ Claude Lane, City: San Fr...  Kitchen Staff/Chef   \n",
       "2  Bartender @ Machka Restaurants Corp., City: Sa...           Bartender   \n",
       "3  Server @ Teriyaki House, City: Brisbane, State...              Server   \n",
       "4  Kitchen Staff/Chef @ Rosa Mexicano - Sunset, C...  Kitchen Staff/Chef   \n",
       "\n",
       "            City  State.Name   \n",
       "0      Palo Alto  California  \\\n",
       "1  San Francisco  California   \n",
       "2  San Francisco  California   \n",
       "3       Brisbane  California   \n",
       "4    Los Angeles  California   \n",
       "\n",
       "                                     Job.Description  \n",
       "0  Tacolicious' first Palo Alto store just opened...  \n",
       "1   \\r\\n\\r\\nNew French Brasserie in S.F. Financia...  \n",
       "2  We are a popular Mediterranean wine bar and re...  \n",
       "3   ● Serve food/drinks to customers in a profess...  \n",
       "4  Located at the heart of Hollywood, we are one ...  "
      ]
     },
     "execution_count": 39,
     "metadata": {},
     "output_type": "execute_result"
    }
   ],
   "source": [
    "df1.head()"
   ]
  },
  {
   "cell_type": "markdown",
   "metadata": {},
   "source": [
    "Now we have only included the columns which have relavent information reggarading the Job Titles"
   ]
  },
  {
   "cell_type": "code",
   "execution_count": 40,
   "metadata": {},
   "outputs": [],
   "source": [
    "df1=df1.sample(n=1000,random_state=42)"
   ]
  },
  {
   "cell_type": "code",
   "execution_count": 41,
   "metadata": {},
   "outputs": [
    {
     "data": {
      "text/html": [
       "<div>\n",
       "<style scoped>\n",
       "    .dataframe tbody tr th:only-of-type {\n",
       "        vertical-align: middle;\n",
       "    }\n",
       "\n",
       "    .dataframe tbody tr th {\n",
       "        vertical-align: top;\n",
       "    }\n",
       "\n",
       "    .dataframe thead th {\n",
       "        text-align: right;\n",
       "    }\n",
       "</style>\n",
       "<table border=\"1\" class=\"dataframe\">\n",
       "  <thead>\n",
       "    <tr style=\"text-align: right;\">\n",
       "      <th></th>\n",
       "      <th>Title</th>\n",
       "      <th>Position</th>\n",
       "      <th>City</th>\n",
       "      <th>State.Name</th>\n",
       "      <th>Job.Description</th>\n",
       "    </tr>\n",
       "  </thead>\n",
       "  <tbody>\n",
       "    <tr>\n",
       "      <th>35567</th>\n",
       "      <td>Event Coordinator (Entry Level) @ Beyond Marke...</td>\n",
       "      <td>Event Coordinator (Entry Level)</td>\n",
       "      <td>Columbus</td>\n",
       "      <td>Ohio</td>\n",
       "      <td>\\r\\n\\r\\n\\r\\n\\r\\n\\r\\n\\r\\n\\r\\n\\r\\n\\r\\nEvent Coor...</td>\n",
       "    </tr>\n",
       "    <tr>\n",
       "      <th>16167</th>\n",
       "      <td>Psychiatric Technician - PRN - Float @ St. Luk...</td>\n",
       "      <td>Psychiatric Technician - PRN - Float</td>\n",
       "      <td>Phoenix</td>\n",
       "      <td>Arizona</td>\n",
       "      <td>Provides direct patient care in the acute care...</td>\n",
       "    </tr>\n",
       "    <tr>\n",
       "      <th>37311</th>\n",
       "      <td>Center Managers and Service Associates @ Ace C...</td>\n",
       "      <td>Center Managers and Service Associates</td>\n",
       "      <td>Wilmington</td>\n",
       "      <td>Delaware</td>\n",
       "      <td>ACE Cash Express is the largest and fastest gr...</td>\n",
       "    </tr>\n",
       "    <tr>\n",
       "      <th>42797</th>\n",
       "      <td>Sales Assistant - Great Mid-Wilshire Firm! @ O...</td>\n",
       "      <td>Sales Assistant - Great Mid-Wilshire Firm!</td>\n",
       "      <td>Los Angeles</td>\n",
       "      <td>California</td>\n",
       "      <td>Ref ID: 00320-160417Classification: Secretary/...</td>\n",
       "    </tr>\n",
       "    <tr>\n",
       "      <th>2970</th>\n",
       "      <td>Macy's Seasonal Retail Fitting Room Associate,...</td>\n",
       "      <td>Macy's Seasonal Retail Fitting Room Associate,...</td>\n",
       "      <td>Los Angeles</td>\n",
       "      <td>California</td>\n",
       "      <td>Job Overview:\\r\\n\\r\\nAs a Seasonal Fitting Roo...</td>\n",
       "    </tr>\n",
       "  </tbody>\n",
       "</table>\n",
       "</div>"
      ],
      "text/plain": [
       "                                                   Title   \n",
       "35567  Event Coordinator (Entry Level) @ Beyond Marke...  \\\n",
       "16167  Psychiatric Technician - PRN - Float @ St. Luk...   \n",
       "37311  Center Managers and Service Associates @ Ace C...   \n",
       "42797  Sales Assistant - Great Mid-Wilshire Firm! @ O...   \n",
       "2970   Macy's Seasonal Retail Fitting Room Associate,...   \n",
       "\n",
       "                                                Position         City   \n",
       "35567                    Event Coordinator (Entry Level)     Columbus  \\\n",
       "16167               Psychiatric Technician - PRN - Float      Phoenix   \n",
       "37311             Center Managers and Service Associates   Wilmington   \n",
       "42797         Sales Assistant - Great Mid-Wilshire Firm!  Los Angeles   \n",
       "2970   Macy's Seasonal Retail Fitting Room Associate,...  Los Angeles   \n",
       "\n",
       "       State.Name                                    Job.Description  \n",
       "35567        Ohio  \\r\\n\\r\\n\\r\\n\\r\\n\\r\\n\\r\\n\\r\\n\\r\\n\\r\\nEvent Coor...  \n",
       "16167     Arizona  Provides direct patient care in the acute care...  \n",
       "37311    Delaware  ACE Cash Express is the largest and fastest gr...  \n",
       "42797  California  Ref ID: 00320-160417Classification: Secretary/...  \n",
       "2970   California  Job Overview:\\r\\n\\r\\nAs a Seasonal Fitting Roo...  "
      ]
     },
     "execution_count": 41,
     "metadata": {},
     "output_type": "execute_result"
    }
   ],
   "source": [
    "df=df1\n",
    "df.head()\n"
   ]
  },
  {
   "cell_type": "code",
   "execution_count": 42,
   "metadata": {},
   "outputs": [],
   "source": [
    "df=df.reset_index()"
   ]
  },
  {
   "cell_type": "code",
   "execution_count": 43,
   "metadata": {},
   "outputs": [],
   "source": [
    "from nltk.corpus import stopwords\n",
    "import nltk\n",
    "import re\n",
    "from nltk.stem.porter import PorterStemmer\n",
    "ps = PorterStemmer()"
   ]
  },
  {
   "cell_type": "code",
   "execution_count": 44,
   "metadata": {},
   "outputs": [],
   "source": [
    "def cleaning(txt):\n",
    "    txt=re.sub(r'[^a-zA-Z0-9\\s]',' ',txt)\n",
    "#'/s' represents spaces,tabs and next lines \n",
    "    tokens=nltk.word_tokenize(txt.lower())\n",
    "    stemming=[ps.stem(w) for w in tokens if w not in stopwords.words('english')]\n",
    "    return \" \".join(stemming)    \n"
   ]
  },
  {
   "cell_type": "code",
   "execution_count": 45,
   "metadata": {},
   "outputs": [],
   "source": [
    "df['State.NameT']=df['State.Name']"
   ]
  },
  {
   "cell_type": "code",
   "execution_count": 46,
   "metadata": {},
   "outputs": [],
   "source": [
    "df['Job.Description'] = df['Job.Description'].astype(str).apply(lambda x: cleaning(x))\n",
    "df['Title2'] = df['Title'].astype(str).apply(lambda x: cleaning(x))"
   ]
  },
  {
   "cell_type": "code",
   "execution_count": 47,
   "metadata": {},
   "outputs": [],
   "source": [
    "df['City'] = df['City'].astype(str).apply(lambda x: cleaning(x))\n",
    "df['State.Name'] = df['State.Name'].astype(str).apply(lambda x: cleaning(x))"
   ]
  },
  {
   "cell_type": "code",
   "execution_count": 48,
   "metadata": {},
   "outputs": [],
   "source": [
    "df['clean_text'] = df['Title2']+\" \"+df['Job.Description']+df['City']+df['State.Name']"
   ]
  },
  {
   "cell_type": "code",
   "execution_count": 80,
   "metadata": {},
   "outputs": [
    {
     "data": {
      "text/plain": [
       "State.NameT\n",
       "California        140\n",
       "Florida            72\n",
       "Pennsylvania       65\n",
       "Ohio               53\n",
       "Texas              50\n",
       "Illinois           47\n",
       "Washington         46\n",
       "New York           38\n",
       "Minnesota          35\n",
       "New Jersey         31\n",
       "Michigan           28\n",
       "North Carolina     27\n",
       "Massachusetts      27\n",
       "Missouri           25\n",
       "Wisconsin          24\n",
       "Name: count, dtype: int64"
      ]
     },
     "execution_count": 80,
     "metadata": {},
     "output_type": "execute_result"
    }
   ],
   "source": [
    "df['State.NameT'].value_counts().head(15)"
   ]
  },
  {
   "cell_type": "markdown",
   "metadata": {},
   "source": [
    "<h2>Vectorization "
   ]
  },
  {
   "cell_type": "code",
   "execution_count": 56,
   "metadata": {},
   "outputs": [],
   "source": [
    "from sklearn.feature_extraction.text import TfidfVectorizer\n",
    "from sklearn.metrics.pairwise import cosine_similarity"
   ]
  },
  {
   "cell_type": "code",
   "execution_count": 57,
   "metadata": {},
   "outputs": [],
   "source": [
    "tfidf=TfidfVectorizer()\n",
    "matrix=tfidf.fit_transform(df['clean_text'])\n",
    "similarity = cosine_similarity(matrix)"
   ]
  },
  {
   "cell_type": "code",
   "execution_count": 58,
   "metadata": {},
   "outputs": [
    {
     "data": {
      "text/plain": [
       "Position\n",
       "Administrative Assistant                           19\n",
       "Customer Service Representative                    18\n",
       "Staff Accountant                                   14\n",
       "Accounting Clerk                                   10\n",
       "Accounts Payable Clerk                              8\n",
       "Receiving/Stock Associate                           8\n",
       "Accounts Receivable Clerk                           7\n",
       "Customer Service / Sales ( New Grads Welcome! )     7\n",
       "Full Charge Bookkeeper                              6\n",
       "Bookkeeper                                          6\n",
       "Retail Sales Associate / Photographer               5\n",
       "Senior Accountant                                   5\n",
       "Retail Sales Associate – Part-Time                  5\n",
       "Data Entry Clerk                                    5\n",
       "Receptionist                                        5\n",
       "Name: count, dtype: int64"
      ]
     },
     "execution_count": 58,
     "metadata": {},
     "output_type": "execute_result"
    }
   ],
   "source": [
    "df['Position'].value_counts().head(15)"
   ]
  },
  {
   "cell_type": "code",
   "execution_count": 59,
   "metadata": {},
   "outputs": [],
   "source": [
    "df['PositionT']=df['Position']+\" \"+df['State.NameT']"
   ]
  },
  {
   "cell_type": "code",
   "execution_count": 79,
   "metadata": {},
   "outputs": [
    {
     "data": {
      "text/plain": [
       "PositionT\n",
       "Customer Service Representative California                                       5\n",
       "Full Charge Bookkeeper Washington                                                3\n",
       "Staff Accountant Washington                                                      3\n",
       "Mechanic Arizona                                                                 3\n",
       "Retail Sales Associate - Showroom Sales - Interior Design Consultant Illinois    3\n",
       "Name: count, dtype: int64"
      ]
     },
     "execution_count": 79,
     "metadata": {},
     "output_type": "execute_result"
    }
   ],
   "source": [
    "df['PositionT'].value_counts().head(5)"
   ]
  },
  {
   "cell_type": "markdown",
   "metadata": {},
   "source": [
    "<h5>-'enumerate' function is used to create a tuple of index and similarity score \n",
    "Eg:(0,1),(1,0.533),(2,0.78)....(n,score)\n",
    "<h5>- Now we use key=lambda x:x[1] because the x[0] is index and  x[1] similarity score so we arrange the Recommendations w.r.t similarity score"
   ]
  },
  {
   "cell_type": "code",
   "execution_count": 81,
   "metadata": {},
   "outputs": [
    {
     "name": "stdout",
     "output_type": "stream",
     "text": [
      "['Marketplace Server @ Presbyterian Senior Living, City: Bethlehem, State : Pennsylvania', 'Operations Specialist Opportunity in San Francisco @ Accountemps, City: San Francisco, State : California', 'Seeking Recent Graduates! @ OfficeTeam, City: San Francisco, State : California', 'Bartender @ American Golf, City: Thousand Oaks, State : California', 'Dietary Aide - Wesley Acres - Des Moines @ WesleyLife, City: Des Moines, State : Iowa', 'RECENT GRADS APPLY TODAY! @ OfficeTeam, City: San Francisco, State : California', 'Dishwashers, Prep Cooks, Grill Cooks, Lead Cooks, Line Servers, Cashiers, Concessions, Banquet Servers and Housekeepers @ All Team Staffing, City: Murfreesboro, State : Tennessee', 'Loan Associate Opportunity in San Francisco @ Accountemps, City: San Francisco, State : California', 'Dining Services Associates @ Regency Park and HarborChase of Vero Beach, City: Vero Beach, State : Florida']\n"
     ]
    }
   ],
   "source": [
    "def recommend(Position):\n",
    "\n",
    "    indx = df[df['PositionT'] == Position].index[0]\n",
    "    distances = sorted(list(enumerate(similarity[indx])), key=lambda x: x[1], reverse=True)[1:10]\n",
    "    # Now we have the indexes of common items . So we can decide what we want for Recommendations\n",
    "    jobs = []\n",
    "    for i in distances:\n",
    "        jobs.append(df.iloc[i[0]]['Title'])\n",
    "    return jobs\n",
    "\n",
    "# Example usage\n",
    "recommended_jobs = recommend('Server California')\n",
    "print(recommended_jobs)"
   ]
  },
  {
   "cell_type": "markdown",
   "metadata": {},
   "source": [
    "-Now here by 'x=df.iloc[i[0]]' gives us an index value because i is (index,similrity_score)\n",
    "\n",
    "-and by x['Title] we will get the value of title of that index"
   ]
  },
  {
   "cell_type": "code",
   "execution_count": 72,
   "metadata": {},
   "outputs": [],
   "source": [
    "import pickle\n",
    "pickle.dump(df,open('df.pkl','wb'))\n",
    "pickle.dump(similarity,open('similarity.pkl','wb'))"
   ]
  },
  {
   "cell_type": "code",
   "execution_count": 73,
   "metadata": {},
   "outputs": [
    {
     "name": "stdout",
     "output_type": "stream",
     "text": [
      "2.0.0\n"
     ]
    }
   ],
   "source": [
    "import pandas as pd\n",
    "print(pd.__version__)"
   ]
  }
 ],
 "metadata": {
  "kernelspec": {
   "display_name": "Python 3",
   "language": "python",
   "name": "python3"
  },
  "language_info": {
   "codemirror_mode": {
    "name": "ipython",
    "version": 3
   },
   "file_extension": ".py",
   "mimetype": "text/x-python",
   "name": "python",
   "nbconvert_exporter": "python",
   "pygments_lexer": "ipython3",
   "version": "3.11.3"
  }
 },
 "nbformat": 4,
 "nbformat_minor": 2
}
